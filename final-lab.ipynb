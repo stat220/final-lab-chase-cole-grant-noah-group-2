{
 "cells": [
  {
   "cell_type": "code",
   "execution_count": 1,
   "metadata": {},
   "outputs": [],
   "source": [
    "from sklearn.preprocessing import StandardScaler, PolynomialFeatures\n",
    "from sklearn.metrics import r2_score, mean_squared_error\n",
    "from sklearn.model_selection import train_test_split\n",
    "from sklearn.linear_model import LinearRegression\n",
    "from sklearn.tree import DecisionTreeRegressor\n",
    "\n",
    "import statsmodels.formula.api as smf\n",
    "import matplotlib.pyplot as plt\n",
    "import missingno as msno\n",
    "import sweetviz as sv\n",
    "import seaborn as sns\n",
    "import pandas as pd\n",
    "import numpy as np"
   ]
  },
  {
   "cell_type": "code",
   "execution_count": 2,
   "metadata": {},
   "outputs": [
    {
     "data": {
      "text/html": [
       "<div>\n",
       "<style scoped>\n",
       "    .dataframe tbody tr th:only-of-type {\n",
       "        vertical-align: middle;\n",
       "    }\n",
       "\n",
       "    .dataframe tbody tr th {\n",
       "        vertical-align: top;\n",
       "    }\n",
       "\n",
       "    .dataframe thead th {\n",
       "        text-align: right;\n",
       "    }\n",
       "</style>\n",
       "<table border=\"1\" class=\"dataframe\">\n",
       "  <thead>\n",
       "    <tr style=\"text-align: right;\">\n",
       "      <th></th>\n",
       "      <th>n_tokens_title</th>\n",
       "      <th>n_tokens_content</th>\n",
       "      <th>n_unique_tokens</th>\n",
       "      <th>n_non_stop_words</th>\n",
       "      <th>n_non_stop_unique_tokens</th>\n",
       "      <th>num_hrefs</th>\n",
       "      <th>num_self_hrefs</th>\n",
       "      <th>num_imgs</th>\n",
       "      <th>num_videos</th>\n",
       "      <th>average_token_length</th>\n",
       "      <th>...</th>\n",
       "      <th>min_positive_polarity</th>\n",
       "      <th>max_positive_polarity</th>\n",
       "      <th>avg_negative_polarity</th>\n",
       "      <th>min_negative_polarity</th>\n",
       "      <th>max_negative_polarity</th>\n",
       "      <th>title_subjectivity</th>\n",
       "      <th>title_sentiment_polarity</th>\n",
       "      <th>abs_title_subjectivity</th>\n",
       "      <th>abs_title_sentiment_polarity</th>\n",
       "      <th>shares</th>\n",
       "    </tr>\n",
       "  </thead>\n",
       "  <tbody>\n",
       "    <tr>\n",
       "      <th>0</th>\n",
       "      <td>12.0</td>\n",
       "      <td>219.0</td>\n",
       "      <td>0.663594</td>\n",
       "      <td>1.0</td>\n",
       "      <td>0.815385</td>\n",
       "      <td>4.0</td>\n",
       "      <td>2.0</td>\n",
       "      <td>1.0</td>\n",
       "      <td>0.0</td>\n",
       "      <td>4.680365</td>\n",
       "      <td>...</td>\n",
       "      <td>0.100000</td>\n",
       "      <td>0.7</td>\n",
       "      <td>-0.350000</td>\n",
       "      <td>-0.600</td>\n",
       "      <td>-0.200000</td>\n",
       "      <td>0.500000</td>\n",
       "      <td>-0.187500</td>\n",
       "      <td>0.000000</td>\n",
       "      <td>0.187500</td>\n",
       "      <td>593</td>\n",
       "    </tr>\n",
       "    <tr>\n",
       "      <th>1</th>\n",
       "      <td>9.0</td>\n",
       "      <td>255.0</td>\n",
       "      <td>0.604743</td>\n",
       "      <td>1.0</td>\n",
       "      <td>0.791946</td>\n",
       "      <td>3.0</td>\n",
       "      <td>1.0</td>\n",
       "      <td>1.0</td>\n",
       "      <td>0.0</td>\n",
       "      <td>4.913725</td>\n",
       "      <td>...</td>\n",
       "      <td>0.033333</td>\n",
       "      <td>0.7</td>\n",
       "      <td>-0.118750</td>\n",
       "      <td>-0.125</td>\n",
       "      <td>-0.100000</td>\n",
       "      <td>0.000000</td>\n",
       "      <td>0.000000</td>\n",
       "      <td>0.500000</td>\n",
       "      <td>0.000000</td>\n",
       "      <td>711</td>\n",
       "    </tr>\n",
       "    <tr>\n",
       "      <th>2</th>\n",
       "      <td>9.0</td>\n",
       "      <td>211.0</td>\n",
       "      <td>0.575130</td>\n",
       "      <td>1.0</td>\n",
       "      <td>0.663866</td>\n",
       "      <td>3.0</td>\n",
       "      <td>1.0</td>\n",
       "      <td>1.0</td>\n",
       "      <td>0.0</td>\n",
       "      <td>4.393365</td>\n",
       "      <td>...</td>\n",
       "      <td>0.100000</td>\n",
       "      <td>1.0</td>\n",
       "      <td>-0.466667</td>\n",
       "      <td>-0.800</td>\n",
       "      <td>-0.133333</td>\n",
       "      <td>0.000000</td>\n",
       "      <td>0.000000</td>\n",
       "      <td>0.500000</td>\n",
       "      <td>0.000000</td>\n",
       "      <td>1500</td>\n",
       "    </tr>\n",
       "    <tr>\n",
       "      <th>3</th>\n",
       "      <td>9.0</td>\n",
       "      <td>531.0</td>\n",
       "      <td>0.503788</td>\n",
       "      <td>1.0</td>\n",
       "      <td>0.665635</td>\n",
       "      <td>9.0</td>\n",
       "      <td>0.0</td>\n",
       "      <td>1.0</td>\n",
       "      <td>0.0</td>\n",
       "      <td>4.404896</td>\n",
       "      <td>...</td>\n",
       "      <td>0.136364</td>\n",
       "      <td>0.8</td>\n",
       "      <td>-0.369697</td>\n",
       "      <td>-0.600</td>\n",
       "      <td>-0.166667</td>\n",
       "      <td>0.000000</td>\n",
       "      <td>0.000000</td>\n",
       "      <td>0.500000</td>\n",
       "      <td>0.000000</td>\n",
       "      <td>1200</td>\n",
       "    </tr>\n",
       "    <tr>\n",
       "      <th>4</th>\n",
       "      <td>13.0</td>\n",
       "      <td>1072.0</td>\n",
       "      <td>0.415646</td>\n",
       "      <td>1.0</td>\n",
       "      <td>0.540890</td>\n",
       "      <td>19.0</td>\n",
       "      <td>19.0</td>\n",
       "      <td>20.0</td>\n",
       "      <td>0.0</td>\n",
       "      <td>4.682836</td>\n",
       "      <td>...</td>\n",
       "      <td>0.033333</td>\n",
       "      <td>1.0</td>\n",
       "      <td>-0.220192</td>\n",
       "      <td>-0.500</td>\n",
       "      <td>-0.050000</td>\n",
       "      <td>0.454545</td>\n",
       "      <td>0.136364</td>\n",
       "      <td>0.045455</td>\n",
       "      <td>0.136364</td>\n",
       "      <td>505</td>\n",
       "    </tr>\n",
       "  </tbody>\n",
       "</table>\n",
       "<p>5 rows × 59 columns</p>\n",
       "</div>"
      ],
      "text/plain": [
       "   n_tokens_title  n_tokens_content  n_unique_tokens  n_non_stop_words  \\\n",
       "0            12.0             219.0         0.663594               1.0   \n",
       "1             9.0             255.0         0.604743               1.0   \n",
       "2             9.0             211.0         0.575130               1.0   \n",
       "3             9.0             531.0         0.503788               1.0   \n",
       "4            13.0            1072.0         0.415646               1.0   \n",
       "\n",
       "   n_non_stop_unique_tokens  num_hrefs  num_self_hrefs  num_imgs  num_videos  \\\n",
       "0                  0.815385        4.0             2.0       1.0         0.0   \n",
       "1                  0.791946        3.0             1.0       1.0         0.0   \n",
       "2                  0.663866        3.0             1.0       1.0         0.0   \n",
       "3                  0.665635        9.0             0.0       1.0         0.0   \n",
       "4                  0.540890       19.0            19.0      20.0         0.0   \n",
       "\n",
       "   average_token_length  ...  min_positive_polarity  max_positive_polarity  \\\n",
       "0              4.680365  ...               0.100000                    0.7   \n",
       "1              4.913725  ...               0.033333                    0.7   \n",
       "2              4.393365  ...               0.100000                    1.0   \n",
       "3              4.404896  ...               0.136364                    0.8   \n",
       "4              4.682836  ...               0.033333                    1.0   \n",
       "\n",
       "   avg_negative_polarity  min_negative_polarity  max_negative_polarity  \\\n",
       "0              -0.350000                 -0.600              -0.200000   \n",
       "1              -0.118750                 -0.125              -0.100000   \n",
       "2              -0.466667                 -0.800              -0.133333   \n",
       "3              -0.369697                 -0.600              -0.166667   \n",
       "4              -0.220192                 -0.500              -0.050000   \n",
       "\n",
       "   title_subjectivity  title_sentiment_polarity  abs_title_subjectivity  \\\n",
       "0            0.500000                 -0.187500                0.000000   \n",
       "1            0.000000                  0.000000                0.500000   \n",
       "2            0.000000                  0.000000                0.500000   \n",
       "3            0.000000                  0.000000                0.500000   \n",
       "4            0.454545                  0.136364                0.045455   \n",
       "\n",
       "   abs_title_sentiment_polarity  shares  \n",
       "0                      0.187500     593  \n",
       "1                      0.000000     711  \n",
       "2                      0.000000    1500  \n",
       "3                      0.000000    1200  \n",
       "4                      0.136364     505  \n",
       "\n",
       "[5 rows x 59 columns]"
      ]
     },
     "execution_count": 2,
     "metadata": {},
     "output_type": "execute_result"
    }
   ],
   "source": [
    "df = pd.read_csv('OnlineNewsPopularity.csv')\n",
    "df = df.drop(columns=['url', 'timedelta'])\n",
    "df.head()"
   ]
  },
  {
   "cell_type": "markdown",
   "metadata": {},
   "source": [
    "# EDA 1"
   ]
  },
  {
   "cell_type": "markdown",
   "metadata": {},
   "source": [
    "## See the spread of the data"
   ]
  },
  {
   "cell_type": "code",
   "execution_count": 3,
   "metadata": {},
   "outputs": [],
   "source": [
    "# report = sv.analyze(df)\n",
    "# report.show_notebook()"
   ]
  },
  {
   "cell_type": "markdown",
   "metadata": {},
   "source": [
    "## Check for missing values"
   ]
  },
  {
   "cell_type": "code",
   "execution_count": 4,
   "metadata": {},
   "outputs": [],
   "source": [
    "# msno.bar(df)"
   ]
  },
  {
   "cell_type": "markdown",
   "metadata": {},
   "source": [
    "Seems like there are no missing values!!"
   ]
  },
  {
   "cell_type": "markdown",
   "metadata": {},
   "source": [
    "## Look at target variable `shares`"
   ]
  },
  {
   "cell_type": "markdown",
   "metadata": {},
   "source": [
    "### No transformations"
   ]
  },
  {
   "cell_type": "code",
   "execution_count": 5,
   "metadata": {},
   "outputs": [
    {
     "data": {
      "image/png": "[encoded data removed]",
      "text/plain": [
       "<Figure size 640x480 with 1 Axes>"
      ]
     },
     "metadata": {},
     "output_type": "display_data"
    }
   ],
   "source": [
    "plt.hist(df['shares'], 100)\n",
    "plt.title('Spread of shares')\n",
    "plt.show()"
   ]
  },
  {
   "cell_type": "markdown",
   "metadata": {},
   "source": [
    "## Standardize data"
   ]
  },
  {
   "cell_type": "markdown",
   "metadata": {},
   "source": [
    "## Remove outliers greater than 3 standard deviations from the mean"
   ]
  },
  {
   "cell_type": "code",
   "execution_count": 6,
   "metadata": {},
   "outputs": [],
   "source": [
    "standard = StandardScaler(with_std=True)\n",
    "\n",
    "std_df = df.copy()\n",
    "\n",
    "std_df['shares'] = standard.fit_transform(df[['shares']])\n",
    "\n",
    "# Correct usage of .where\n",
    "std_df['shares'] = std_df['shares'].where(std_df['shares'] <= 3, np.nan)\n",
    "# Drop rows with NaN (optional)\n",
    "std_df.dropna(subset=['shares'], inplace=True)"
   ]
  },
  {
   "cell_type": "code",
   "execution_count": 7,
   "metadata": {},
   "outputs": [
    {
     "data": {
      "text/html": [
       "<div>\n",
       "<style scoped>\n",
       "    .dataframe tbody tr th:only-of-type {\n",
       "        vertical-align: middle;\n",
       "    }\n",
       "\n",
       "    .dataframe tbody tr th {\n",
       "        vertical-align: top;\n",
       "    }\n",
       "\n",
       "    .dataframe thead th {\n",
       "        text-align: right;\n",
       "    }\n",
       "</style>\n",
       "<table border=\"1\" class=\"dataframe\">\n",
       "  <thead>\n",
       "    <tr style=\"text-align: right;\">\n",
       "      <th></th>\n",
       "      <th>n_tokens_title</th>\n",
       "      <th>n_tokens_content</th>\n",
       "      <th>n_unique_tokens</th>\n",
       "      <th>n_non_stop_words</th>\n",
       "      <th>n_non_stop_unique_tokens</th>\n",
       "      <th>num_hrefs</th>\n",
       "      <th>num_self_hrefs</th>\n",
       "      <th>num_imgs</th>\n",
       "      <th>num_videos</th>\n",
       "      <th>average_token_length</th>\n",
       "      <th>...</th>\n",
       "      <th>min_positive_polarity</th>\n",
       "      <th>max_positive_polarity</th>\n",
       "      <th>avg_negative_polarity</th>\n",
       "      <th>min_negative_polarity</th>\n",
       "      <th>max_negative_polarity</th>\n",
       "      <th>title_subjectivity</th>\n",
       "      <th>title_sentiment_polarity</th>\n",
       "      <th>abs_title_subjectivity</th>\n",
       "      <th>abs_title_sentiment_polarity</th>\n",
       "      <th>shares</th>\n",
       "    </tr>\n",
       "  </thead>\n",
       "  <tbody>\n",
       "    <tr>\n",
       "      <th>count</th>\n",
       "      <td>39644.000000</td>\n",
       "      <td>39644.000000</td>\n",
       "      <td>39644.000000</td>\n",
       "      <td>39644.000000</td>\n",
       "      <td>39644.000000</td>\n",
       "      <td>39644.000000</td>\n",
       "      <td>39644.000000</td>\n",
       "      <td>39644.000000</td>\n",
       "      <td>39644.000000</td>\n",
       "      <td>39644.000000</td>\n",
       "      <td>...</td>\n",
       "      <td>39644.000000</td>\n",
       "      <td>39644.000000</td>\n",
       "      <td>39644.000000</td>\n",
       "      <td>39644.000000</td>\n",
       "      <td>39644.000000</td>\n",
       "      <td>39644.000000</td>\n",
       "      <td>39644.000000</td>\n",
       "      <td>39644.000000</td>\n",
       "      <td>39644.000000</td>\n",
       "      <td>39644.000000</td>\n",
       "    </tr>\n",
       "    <tr>\n",
       "      <th>mean</th>\n",
       "      <td>10.398749</td>\n",
       "      <td>546.514731</td>\n",
       "      <td>0.548216</td>\n",
       "      <td>0.996469</td>\n",
       "      <td>0.689175</td>\n",
       "      <td>10.883690</td>\n",
       "      <td>3.293638</td>\n",
       "      <td>4.544143</td>\n",
       "      <td>1.249874</td>\n",
       "      <td>4.548239</td>\n",
       "      <td>...</td>\n",
       "      <td>0.095446</td>\n",
       "      <td>0.756728</td>\n",
       "      <td>-0.259524</td>\n",
       "      <td>-0.521944</td>\n",
       "      <td>-0.107500</td>\n",
       "      <td>0.282353</td>\n",
       "      <td>0.071425</td>\n",
       "      <td>0.341843</td>\n",
       "      <td>0.156064</td>\n",
       "      <td>3395.380184</td>\n",
       "    </tr>\n",
       "    <tr>\n",
       "      <th>std</th>\n",
       "      <td>2.114037</td>\n",
       "      <td>471.107508</td>\n",
       "      <td>3.520708</td>\n",
       "      <td>5.231231</td>\n",
       "      <td>3.264816</td>\n",
       "      <td>11.332017</td>\n",
       "      <td>3.855141</td>\n",
       "      <td>8.309434</td>\n",
       "      <td>4.107855</td>\n",
       "      <td>0.844406</td>\n",
       "      <td>...</td>\n",
       "      <td>0.071315</td>\n",
       "      <td>0.247786</td>\n",
       "      <td>0.127726</td>\n",
       "      <td>0.290290</td>\n",
       "      <td>0.095373</td>\n",
       "      <td>0.324247</td>\n",
       "      <td>0.265450</td>\n",
       "      <td>0.188791</td>\n",
       "      <td>0.226294</td>\n",
       "      <td>11626.950749</td>\n",
       "    </tr>\n",
       "    <tr>\n",
       "      <th>min</th>\n",
       "      <td>2.000000</td>\n",
       "      <td>0.000000</td>\n",
       "      <td>0.000000</td>\n",
       "      <td>0.000000</td>\n",
       "      <td>0.000000</td>\n",
       "      <td>0.000000</td>\n",
       "      <td>0.000000</td>\n",
       "      <td>0.000000</td>\n",
       "      <td>0.000000</td>\n",
       "      <td>0.000000</td>\n",
       "      <td>...</td>\n",
       "      <td>0.000000</td>\n",
       "      <td>0.000000</td>\n",
       "      <td>-1.000000</td>\n",
       "      <td>-1.000000</td>\n",
       "      <td>-1.000000</td>\n",
       "      <td>0.000000</td>\n",
       "      <td>-1.000000</td>\n",
       "      <td>0.000000</td>\n",
       "      <td>0.000000</td>\n",
       "      <td>1.000000</td>\n",
       "    </tr>\n",
       "    <tr>\n",
       "      <th>25%</th>\n",
       "      <td>9.000000</td>\n",
       "      <td>246.000000</td>\n",
       "      <td>0.470870</td>\n",
       "      <td>1.000000</td>\n",
       "      <td>0.625739</td>\n",
       "      <td>4.000000</td>\n",
       "      <td>1.000000</td>\n",
       "      <td>1.000000</td>\n",
       "      <td>0.000000</td>\n",
       "      <td>4.478404</td>\n",
       "      <td>...</td>\n",
       "      <td>0.050000</td>\n",
       "      <td>0.600000</td>\n",
       "      <td>-0.328383</td>\n",
       "      <td>-0.700000</td>\n",
       "      <td>-0.125000</td>\n",
       "      <td>0.000000</td>\n",
       "      <td>0.000000</td>\n",
       "      <td>0.166667</td>\n",
       "      <td>0.000000</td>\n",
       "      <td>946.000000</td>\n",
       "    </tr>\n",
       "    <tr>\n",
       "      <th>50%</th>\n",
       "      <td>10.000000</td>\n",
       "      <td>409.000000</td>\n",
       "      <td>0.539226</td>\n",
       "      <td>1.000000</td>\n",
       "      <td>0.690476</td>\n",
       "      <td>8.000000</td>\n",
       "      <td>3.000000</td>\n",
       "      <td>1.000000</td>\n",
       "      <td>0.000000</td>\n",
       "      <td>4.664082</td>\n",
       "      <td>...</td>\n",
       "      <td>0.100000</td>\n",
       "      <td>0.800000</td>\n",
       "      <td>-0.253333</td>\n",
       "      <td>-0.500000</td>\n",
       "      <td>-0.100000</td>\n",
       "      <td>0.150000</td>\n",
       "      <td>0.000000</td>\n",
       "      <td>0.500000</td>\n",
       "      <td>0.000000</td>\n",
       "      <td>1400.000000</td>\n",
       "    </tr>\n",
       "    <tr>\n",
       "      <th>75%</th>\n",
       "      <td>12.000000</td>\n",
       "      <td>716.000000</td>\n",
       "      <td>0.608696</td>\n",
       "      <td>1.000000</td>\n",
       "      <td>0.754630</td>\n",
       "      <td>14.000000</td>\n",
       "      <td>4.000000</td>\n",
       "      <td>4.000000</td>\n",
       "      <td>1.000000</td>\n",
       "      <td>4.854839</td>\n",
       "      <td>...</td>\n",
       "      <td>0.100000</td>\n",
       "      <td>1.000000</td>\n",
       "      <td>-0.186905</td>\n",
       "      <td>-0.300000</td>\n",
       "      <td>-0.050000</td>\n",
       "      <td>0.500000</td>\n",
       "      <td>0.150000</td>\n",
       "      <td>0.500000</td>\n",
       "      <td>0.250000</td>\n",
       "      <td>2800.000000</td>\n",
       "    </tr>\n",
       "    <tr>\n",
       "      <th>max</th>\n",
       "      <td>23.000000</td>\n",
       "      <td>8474.000000</td>\n",
       "      <td>701.000000</td>\n",
       "      <td>1042.000000</td>\n",
       "      <td>650.000000</td>\n",
       "      <td>304.000000</td>\n",
       "      <td>116.000000</td>\n",
       "      <td>128.000000</td>\n",
       "      <td>91.000000</td>\n",
       "      <td>8.041534</td>\n",
       "      <td>...</td>\n",
       "      <td>1.000000</td>\n",
       "      <td>1.000000</td>\n",
       "      <td>0.000000</td>\n",
       "      <td>0.000000</td>\n",
       "      <td>0.000000</td>\n",
       "      <td>1.000000</td>\n",
       "      <td>1.000000</td>\n",
       "      <td>0.500000</td>\n",
       "      <td>1.000000</td>\n",
       "      <td>843300.000000</td>\n",
       "    </tr>\n",
       "  </tbody>\n",
       "</table>\n",
       "<p>8 rows × 59 columns</p>\n",
       "</div>"
      ],
      "text/plain": [
       "       n_tokens_title  n_tokens_content  n_unique_tokens  n_non_stop_words  \\\n",
       "count    39644.000000      39644.000000     39644.000000      39644.000000   \n",
       "mean        10.398749        546.514731         0.548216          0.996469   \n",
       "std          2.114037        471.107508         3.520708          5.231231   \n",
       "min          2.000000          0.000000         0.000000          0.000000   \n",
       "25%          9.000000        246.000000         0.470870          1.000000   \n",
       "50%         10.000000        409.000000         0.539226          1.000000   \n",
       "75%         12.000000        716.000000         0.608696          1.000000   \n",
       "max         23.000000       8474.000000       701.000000       1042.000000   \n",
       "\n",
       "       n_non_stop_unique_tokens     num_hrefs  num_self_hrefs      num_imgs  \\\n",
       "count              39644.000000  39644.000000    39644.000000  39644.000000   \n",
       "mean                   0.689175     10.883690        3.293638      4.544143   \n",
       "std                    3.264816     11.332017        3.855141      8.309434   \n",
       "min                    0.000000      0.000000        0.000000      0.000000   \n",
       "25%                    0.625739      4.000000        1.000000      1.000000   \n",
       "50%                    0.690476      8.000000        3.000000      1.000000   \n",
       "75%                    0.754630     14.000000        4.000000      4.000000   \n",
       "max                  650.000000    304.000000      116.000000    128.000000   \n",
       "\n",
       "         num_videos  average_token_length  ...  min_positive_polarity  \\\n",
       "count  39644.000000          39644.000000  ...           39644.000000   \n",
       "mean       1.249874              4.548239  ...               0.095446   \n",
       "std        4.107855              0.844406  ...               0.071315   \n",
       "min        0.000000              0.000000  ...               0.000000   \n",
       "25%        0.000000              4.478404  ...               0.050000   \n",
       "50%        0.000000              4.664082  ...               0.100000   \n",
       "75%        1.000000              4.854839  ...               0.100000   \n",
       "max       91.000000              8.041534  ...               1.000000   \n",
       "\n",
       "       max_positive_polarity  avg_negative_polarity  min_negative_polarity  \\\n",
       "count           39644.000000           39644.000000           39644.000000   \n",
       "mean                0.756728              -0.259524              -0.521944   \n",
       "std                 0.247786               0.127726               0.290290   \n",
       "min                 0.000000              -1.000000              -1.000000   \n",
       "25%                 0.600000              -0.328383              -0.700000   \n",
       "50%                 0.800000              -0.253333              -0.500000   \n",
       "75%                 1.000000              -0.186905              -0.300000   \n",
       "max                 1.000000               0.000000               0.000000   \n",
       "\n",
       "       max_negative_polarity  title_subjectivity  title_sentiment_polarity  \\\n",
       "count           39644.000000        39644.000000              39644.000000   \n",
       "mean               -0.107500            0.282353                  0.071425   \n",
       "std                 0.095373            0.324247                  0.265450   \n",
       "min                -1.000000            0.000000                 -1.000000   \n",
       "25%                -0.125000            0.000000                  0.000000   \n",
       "50%                -0.100000            0.150000                  0.000000   \n",
       "75%                -0.050000            0.500000                  0.150000   \n",
       "max                 0.000000            1.000000                  1.000000   \n",
       "\n",
       "       abs_title_subjectivity  abs_title_sentiment_polarity         shares  \n",
       "count            39644.000000                  39644.000000   39644.000000  \n",
       "mean                 0.341843                      0.156064    3395.380184  \n",
       "std                  0.188791                      0.226294   11626.950749  \n",
       "min                  0.000000                      0.000000       1.000000  \n",
       "25%                  0.166667                      0.000000     946.000000  \n",
       "50%                  0.500000                      0.000000    1400.000000  \n",
       "75%                  0.500000                      0.250000    2800.000000  \n",
       "max                  0.500000                      1.000000  843300.000000  \n",
       "\n",
       "[8 rows x 59 columns]"
      ]
     },
     "execution_count": 7,
     "metadata": {},
     "output_type": "execute_result"
    }
   ],
   "source": [
    "df.describe()"
   ]
  },
  {
   "cell_type": "code",
   "execution_count": 8,
   "metadata": {},
   "outputs": [],
   "source": [
    "y = std_df[['shares']].to_numpy()"
   ]
  },
  {
   "cell_type": "code",
   "execution_count": 9,
   "metadata": {},
   "outputs": [
    {
     "data": {
      "image/png": "[encoded data removed]",
      "text/plain": [
       "<Figure size 640x480 with 1 Axes>"
      ]
     },
     "metadata": {},
     "output_type": "display_data"
    }
   ],
   "source": [
    "plt.hist(y, 100)\n",
    "plt.title('Spread of standardized shares')\n",
    "plt.show()"
   ]
  },
  {
   "cell_type": "code",
   "execution_count": 10,
   "metadata": {},
   "outputs": [],
   "source": [
    "y = df['shares'].to_numpy()"
   ]
  },
  {
   "cell_type": "markdown",
   "metadata": {},
   "source": [
    "## Normalize data"
   ]
  },
  {
   "cell_type": "code",
   "execution_count": 11,
   "metadata": {},
   "outputs": [],
   "source": [
    "mean = y.mean()\n",
    "y_normal = (y-mean) / mean"
   ]
  },
  {
   "cell_type": "code",
   "execution_count": 12,
   "metadata": {},
   "outputs": [],
   "source": [
    "y_normal.sort()"
   ]
  },
  {
   "cell_type": "code",
   "execution_count": 13,
   "metadata": {},
   "outputs": [
    {
     "data": {
      "image/png": "[encoded data removed]",
      "text/plain": [
       "<Figure size 640x480 with 1 Axes>"
      ]
     },
     "metadata": {},
     "output_type": "display_data"
    }
   ],
   "source": [
    "plt.hist(y_normal, 50)\n",
    "plt.title('Spread of normalized shares')\n",
    "plt.show()"
   ]
  },
  {
   "cell_type": "markdown",
   "metadata": {},
   "source": [
    "## Log transform data"
   ]
  },
  {
   "cell_type": "code",
   "execution_count": 14,
   "metadata": {},
   "outputs": [],
   "source": [
    "log_df = df.copy()\n",
    "\n",
    "log_df['shares'] = np.log10(df['shares'])"
   ]
  },
  {
   "cell_type": "code",
   "execution_count": 15,
   "metadata": {},
   "outputs": [
    {
     "data": {
      "text/plain": [
       "count    39644.000000\n",
       "mean         3.246288\n",
       "std          0.404105\n",
       "min          0.000000\n",
       "25%          2.975891\n",
       "50%          3.146128\n",
       "75%          3.447158\n",
       "max          5.925982\n",
       "Name: shares, dtype: float64"
      ]
     },
     "execution_count": 15,
     "metadata": {},
     "output_type": "execute_result"
    }
   ],
   "source": [
    "log_df['shares'].describe()"
   ]
  },
  {
   "cell_type": "code",
   "execution_count": 16,
   "metadata": {},
   "outputs": [],
   "source": [
    "y = log_df['shares']"
   ]
  },
  {
   "cell_type": "code",
   "execution_count": 17,
   "metadata": {},
   "outputs": [
    {
     "data": {
      "image/png": "[encoded data removed]",
      "text/plain": [
       "<Figure size 640x480 with 1 Axes>"
      ]
     },
     "metadata": {},
     "output_type": "display_data"
    }
   ],
   "source": [
    "plt.hist(y, 75)\n",
    "plt.show()"
   ]
  },
  {
   "cell_type": "markdown",
   "metadata": {},
   "source": [
    "***Log base 10 transformations are the best transformation because of the close spread of the transformed data and most of the data are centered around 3 with a range of [0,6)***"
   ]
  },
  {
   "cell_type": "markdown",
   "metadata": {},
   "source": [
    "# EDA 2"
   ]
  },
  {
   "cell_type": "code",
   "execution_count": 18,
   "metadata": {},
   "outputs": [],
   "source": [
    "df['shares'] = log_df['shares']\n",
    "train_df, test_df = train_test_split(df, random_state=0)"
   ]
  },
  {
   "cell_type": "code",
   "execution_count": 19,
   "metadata": {},
   "outputs": [],
   "source": [
    "y_train = train_df['shares']\n",
    "X_train = train_df.drop(columns='shares')\n",
    "y_test= test_df['shares']\n",
    "X_test = test_df.drop(columns='shares')"
   ]
  },
  {
   "cell_type": "code",
   "execution_count": 20,
   "metadata": {},
   "outputs": [
    {
     "data": {
      "text/html": [
       "<style>#sk-container-id-1 {color: black;background-color: white;}#sk-container-id-1 pre{padding: 0;}#sk-container-id-1 div.sk-toggleable {background-color: white;}#sk-container-id-1 label.sk-toggleable__label {cursor: pointer;display: block;width: 100%;margin-bottom: 0;padding: 0.3em;box-sizing: border-box;text-align: center;}#sk-container-id-1 label.sk-toggleable__label-arrow:before {content: \"▸\";float: left;margin-right: 0.25em;color: #696969;}#sk-container-id-1 label.sk-toggleable__label-arrow:hover:before {color: black;}#sk-container-id-1 div.sk-estimator:hover label.sk-toggleable__label-arrow:before {color: black;}#sk-container-id-1 div.sk-toggleable__content {max-height: 0;max-width: 0;overflow: hidden;text-align: left;background-color: #f0f8ff;}#sk-container-id-1 div.sk-toggleable__content pre {margin: 0.2em;color: black;border-radius: 0.25em;background-color: #f0f8ff;}#sk-container-id-1 input.sk-toggleable__control:checked~div.sk-toggleable__content {max-height: 200px;max-width: 100%;overflow: auto;}#sk-container-id-1 input.sk-toggleable__control:checked~label.sk-toggleable__label-arrow:before {content: \"▾\";}#sk-container-id-1 div.sk-estimator input.sk-toggleable__control:checked~label.sk-toggleable__label {background-color: #d4ebff;}#sk-container-id-1 div.sk-label input.sk-toggleable__control:checked~label.sk-toggleable__label {background-color: #d4ebff;}#sk-container-id-1 input.sk-hidden--visually {border: 0;clip: rect(1px 1px 1px 1px);clip: rect(1px, 1px, 1px, 1px);height: 1px;margin: -1px;overflow: hidden;padding: 0;position: absolute;width: 1px;}#sk-container-id-1 div.sk-estimator {font-family: monospace;background-color: #f0f8ff;border: 1px dotted black;border-radius: 0.25em;box-sizing: border-box;margin-bottom: 0.5em;}#sk-container-id-1 div.sk-estimator:hover {background-color: #d4ebff;}#sk-container-id-1 div.sk-parallel-item::after {content: \"\";width: 100%;border-bottom: 1px solid gray;flex-grow: 1;}#sk-container-id-1 div.sk-label:hover label.sk-toggleable__label {background-color: #d4ebff;}#sk-container-id-1 div.sk-serial::before {content: \"\";position: absolute;border-left: 1px solid gray;box-sizing: border-box;top: 0;bottom: 0;left: 50%;z-index: 0;}#sk-container-id-1 div.sk-serial {display: flex;flex-direction: column;align-items: center;background-color: white;padding-right: 0.2em;padding-left: 0.2em;position: relative;}#sk-container-id-1 div.sk-item {position: relative;z-index: 1;}#sk-container-id-1 div.sk-parallel {display: flex;align-items: stretch;justify-content: center;background-color: white;position: relative;}#sk-container-id-1 div.sk-item::before, #sk-container-id-1 div.sk-parallel-item::before {content: \"\";position: absolute;border-left: 1px solid gray;box-sizing: border-box;top: 0;bottom: 0;left: 50%;z-index: -1;}#sk-container-id-1 div.sk-parallel-item {display: flex;flex-direction: column;z-index: 1;position: relative;background-color: white;}#sk-container-id-1 div.sk-parallel-item:first-child::after {align-self: flex-end;width: 50%;}#sk-container-id-1 div.sk-parallel-item:last-child::after {align-self: flex-start;width: 50%;}#sk-container-id-1 div.sk-parallel-item:only-child::after {width: 0;}#sk-container-id-1 div.sk-dashed-wrapped {border: 1px dashed gray;margin: 0 0.4em 0.5em 0.4em;box-sizing: border-box;padding-bottom: 0.4em;background-color: white;}#sk-container-id-1 div.sk-label label {font-family: monospace;font-weight: bold;display: inline-block;line-height: 1.2em;}#sk-container-id-1 div.sk-label-container {text-align: center;}#sk-container-id-1 div.sk-container {/* jupyter's `normalize.less` sets `[hidden] { display: none; }` but bootstrap.min.css set `[hidden] { display: none !important; }` so we also need the `!important` here to be able to override the default hidden behavior on the sphinx rendered scikit-learn.org. See: https://github.com/scikit-learn/scikit-learn/issues/21755 */display: inline-block !important;position: relative;}#sk-container-id-1 div.sk-text-repr-fallback {display: none;}</style><div id=\"sk-container-id-1\" class=\"sk-top-container\"><div class=\"sk-text-repr-fallback\"><pre>LinearRegression()</pre><b>In a Jupyter environment, please rerun this cell to show the HTML representation or trust the notebook. <br />On GitHub, the HTML representation is unable to render, please try loading this page with nbviewer.org.</b></div><div class=\"sk-container\" hidden><div class=\"sk-item\"><div class=\"sk-estimator sk-toggleable\"><input class=\"sk-toggleable__control sk-hidden--visually\" id=\"sk-estimator-id-1\" type=\"checkbox\" checked><label for=\"sk-estimator-id-1\" class=\"sk-toggleable__label sk-toggleable__label-arrow\">LinearRegression</label><div class=\"sk-toggleable__content\"><pre>LinearRegression()</pre></div></div></div></div></div>"
      ],
      "text/plain": [
       "LinearRegression()"
      ]
     },
     "execution_count": 20,
     "metadata": {},
     "output_type": "execute_result"
    }
   ],
   "source": [
    "# Use sklearn to get fast estimates and ols model to trim features and draw conclusions\n",
    "model = LinearRegression()\n",
    "model.fit(X_train, y_train)"
   ]
  },
  {
   "cell_type": "code",
   "execution_count": 21,
   "metadata": {},
   "outputs": [
    {
     "name": "stdout",
     "output_type": "stream",
     "text": [
      "r2=-0.4370 mse=0.2293\n"
     ]
    }
   ],
   "source": [
    "# No need to transform pred because the model learned to predict log values\n",
    "pred = model.predict(X_test)\n",
    "r2 = r2_score(y_test, pred)\n",
    "mse = mean_squared_error(y_test, pred)\n",
    "print(f'{r2=:.4f} {mse=:.4f}')"
   ]
  },
  {
   "cell_type": "code",
   "execution_count": 22,
   "metadata": {},
   "outputs": [
    {
     "data": {
      "image/png": "[encoded data removed]",
      "text/plain": [
       "<Figure size 640x480 with 1 Axes>"
      ]
     },
     "metadata": {},
     "output_type": "display_data"
    }
   ],
   "source": [
    "plt.scatter(y_test, pred)\n",
    "plt.title(f'LinearRegression with r2 = {r2:.3f} mse = {mse:.4f}')\n",
    "plt.xlabel('y truth')\n",
    "plt.ylabel('model prediction')\n",
    "plt.show()"
   ]
  },
  {
   "cell_type": "code",
   "execution_count": 23,
   "metadata": {},
   "outputs": [],
   "source": [
    "sorted_values = list(zip(y_test, pred))\n",
    "key = lambda a:a[1]\n",
    "sorted_values = sorted(sorted_values, key=key)\n",
    "values = sorted_values[:-1]"
   ]
  },
  {
   "cell_type": "code",
   "execution_count": 24,
   "metadata": {},
   "outputs": [],
   "source": [
    "clipped_y_test = [y for y,_ in values]\n",
    "pred = [p for _,p in values]"
   ]
  },
  {
   "cell_type": "code",
   "execution_count": 25,
   "metadata": {},
   "outputs": [
    {
     "data": {
      "image/png": "[encoded data removed]",
      "text/plain": [
       "<Figure size 640x480 with 1 Axes>"
      ]
     },
     "metadata": {},
     "output_type": "display_data"
    }
   ],
   "source": [
    "plt.scatter(clipped_y_test, pred)\n",
    "plt.title(f'LinearRegression with r2 = {r2:.3f} mse = {mse:.4f}')\n",
    "plt.xlabel('y truth')\n",
    "plt.ylabel('model prediction')\n",
    "plt.show()"
   ]
  },
  {
   "cell_type": "code",
   "execution_count": 26,
   "metadata": {},
   "outputs": [],
   "source": [
    "feats = model.feature_names_in_\n",
    "coef = model.coef_\n",
    "info = list(zip(feats, coef))"
   ]
  },
  {
   "cell_type": "code",
   "execution_count": 27,
   "metadata": {},
   "outputs": [
    {
     "data": {
      "text/plain": [
       "[('data_channel_is_entertainment', -0.07280827880566798),\n",
       " ('data_channel_is_bus', -0.07310850094235521),\n",
       " ('rate_positive_words', 0.07481391019371184),\n",
       " ('avg_negative_polarity', -0.09149585143036798),\n",
       " ('min_positive_polarity', -0.09474994134553791),\n",
       " ('n_non_stop_unique_tokens', -0.10566607687410431),\n",
       " ('LDA_00', 0.12084593656390522),\n",
       " ('global_subjectivity', 0.17208919074470308),\n",
       " ('global_rate_negative_words', 0.2772736145316002),\n",
       " ('global_rate_positive_words', -0.49928003341746724)]"
      ]
     },
     "execution_count": 27,
     "metadata": {},
     "output_type": "execute_result"
    }
   ],
   "source": [
    "key = lambda a: abs(a[1])\n",
    "info = sorted(info, key=key)\n",
    "info[-10:]"
   ]
  },
  {
   "cell_type": "markdown",
   "metadata": {},
   "source": [
    "# EDA 3"
   ]
  },
  {
   "cell_type": "code",
   "execution_count": 28,
   "metadata": {},
   "outputs": [],
   "source": [
    "def find_reg_tree(train_df, test_df, max_depth):\n",
    "    y_train = train_df['shares']\n",
    "    X_train = train_df.drop(columns='shares')\n",
    "\n",
    "    y_test = test_df['shares']\n",
    "    X_test = test_df.drop(columns='shares')\n",
    "\n",
    "    info = []\n",
    "\n",
    "    for i in range(2, max_depth):\n",
    "        print()\n",
    "        # max_features=1.0 gives the best r2 and MSE values\n",
    "        # min_samples_leaf=1 is the best\n",
    "        # min_samples_split=2 is the best\n",
    "        model = DecisionTreeRegressor(max_depth=i, splitter='random', max_features=1.0, random_state=0)\n",
    "        model.fit(X_train, y_train)\n",
    "\n",
    "        # Check for overfitting\n",
    "        pred = model.predict(X_train)\n",
    "        r2 = r2_score(y_train, pred)\n",
    "        mse = mean_squared_error(y_train, pred)\n",
    "        print(f'{i}: train_{r2=:.4f} train_{mse=:.4f}')\n",
    "\n",
    "        # Check for generalization\n",
    "        pred = model.predict(X_test)\n",
    "        r2 = r2_score(y_test, pred)\n",
    "        mse = mean_squared_error(y_test, pred)\n",
    "        print(f'{i}: test_{r2=:.4f} test_{mse=:.4f}')\n",
    "\n",
    "        feat_imp = model.feature_importances_\n",
    "        feat = model.feature_names_in_\n",
    "        features = list(zip(feat, feat_imp))\n",
    "        info.append((i,r2,mse,features))\n",
    "\n",
    "    return info"
   ]
  },
  {
   "cell_type": "code",
   "execution_count": 29,
   "metadata": {},
   "outputs": [
    {
     "name": "stdout",
     "output_type": "stream",
     "text": [
      "\n",
      "2: train_r2=0.0425 train_mse=0.1575\n",
      "2: test_r2=0.0350 test_mse=0.1540\n",
      "\n",
      "3: train_r2=0.0669 train_mse=0.1535\n",
      "3: test_r2=0.0620 test_mse=0.1497\n",
      "\n",
      "4: train_r2=0.0875 train_mse=0.1501\n",
      "4: test_r2=0.0646 test_mse=0.1492\n",
      "\n",
      "5: train_r2=0.0981 train_mse=0.1484\n",
      "5: test_r2=0.0753 test_mse=0.1475\n",
      "\n",
      "6: train_r2=0.1133 train_mse=0.1459\n",
      "6: test_r2=0.0860 test_mse=0.1458\n",
      "\n",
      "7: train_r2=0.1234 train_mse=0.1442\n",
      "7: test_r2=0.0796 test_mse=0.1469\n",
      "\n",
      "8: train_r2=0.1490 train_mse=0.1400\n",
      "8: test_r2=0.0518 test_mse=0.1513\n",
      "\n",
      "9: train_r2=0.1830 train_mse=0.1344\n",
      "9: test_r2=0.0570 test_mse=0.1505\n",
      "\n",
      "10: train_r2=0.2118 train_mse=0.1297\n",
      "10: test_r2=0.0314 test_mse=0.1546\n",
      "\n",
      "11: train_r2=0.2559 train_mse=0.1224\n",
      "11: test_r2=-0.0136 test_mse=0.1617\n",
      "\n",
      "12: train_r2=0.2940 train_mse=0.1162\n",
      "12: test_r2=-0.0239 test_mse=0.1634\n",
      "\n",
      "13: train_r2=0.3218 train_mse=0.1116\n",
      "13: test_r2=-0.0792 test_mse=0.1722\n",
      "\n",
      "14: train_r2=0.4028 train_mse=0.0983\n",
      "14: test_r2=-0.1655 test_mse=0.1860\n",
      "\n",
      "15: train_r2=0.4491 train_mse=0.0906\n",
      "15: test_r2=-0.2325 test_mse=0.1966\n",
      "\n",
      "16: train_r2=0.5548 train_mse=0.0733\n",
      "16: test_r2=-0.2515 test_mse=0.1997\n",
      "\n",
      "17: train_r2=0.6128 train_mse=0.0637\n",
      "17: test_r2=-0.3440 test_mse=0.2145\n",
      "\n",
      "18: train_r2=0.6380 train_mse=0.0596\n",
      "18: test_r2=-0.4008 test_mse=0.2235\n",
      "\n",
      "19: train_r2=0.6982 train_mse=0.0497\n",
      "19: test_r2=-0.4344 test_mse=0.2289\n",
      "\n",
      "20: train_r2=0.7400 train_mse=0.0428\n",
      "20: test_r2=-0.4916 test_mse=0.2380\n",
      "\n",
      "21: train_r2=0.7835 train_mse=0.0356\n",
      "21: test_r2=-0.5395 test_mse=0.2456\n",
      "\n",
      "22: train_r2=0.8293 train_mse=0.0281\n",
      "22: test_r2=-0.6937 test_mse=0.2702\n",
      "\n",
      "23: train_r2=0.8742 train_mse=0.0207\n",
      "23: test_r2=-0.6877 test_mse=0.2693\n",
      "\n",
      "24: train_r2=0.8810 train_mse=0.0196\n",
      "24: test_r2=-0.6466 test_mse=0.2627\n",
      "\n",
      "25: train_r2=0.9432 train_mse=0.0093\n",
      "25: test_r2=-0.6966 test_mse=0.2707\n",
      "\n",
      "26: train_r2=0.9458 train_mse=0.0089\n",
      "26: test_r2=-0.7159 test_mse=0.2738\n",
      "\n",
      "27: train_r2=0.9457 train_mse=0.0089\n",
      "27: test_r2=-0.7424 test_mse=0.2780\n",
      "\n",
      "28: train_r2=0.9586 train_mse=0.0068\n",
      "28: test_r2=-0.7745 test_mse=0.2831\n",
      "\n",
      "29: train_r2=0.9761 train_mse=0.0039\n",
      "29: test_r2=-0.7717 test_mse=0.2827\n",
      "\n",
      "30: train_r2=0.9832 train_mse=0.0028\n",
      "30: test_r2=-0.8210 test_mse=0.2906\n",
      "\n",
      "31: train_r2=0.9882 train_mse=0.0019\n",
      "31: test_r2=-0.7849 test_mse=0.2848\n",
      "\n",
      "32: train_r2=0.9844 train_mse=0.0026\n",
      "32: test_r2=-0.7554 test_mse=0.2801\n",
      "\n",
      "33: train_r2=0.9869 train_mse=0.0022\n",
      "33: test_r2=-0.8183 test_mse=0.2901\n",
      "\n",
      "34: train_r2=0.9941 train_mse=0.0010\n",
      "34: test_r2=-0.7922 test_mse=0.2860\n",
      "\n",
      "35: train_r2=0.9987 train_mse=0.0002\n",
      "35: test_r2=-0.8190 test_mse=0.2902\n",
      "\n",
      "36: train_r2=0.9984 train_mse=0.0003\n",
      "36: test_r2=-0.8092 test_mse=0.2887\n",
      "\n",
      "37: train_r2=0.9996 train_mse=0.0001\n",
      "37: test_r2=-0.8144 test_mse=0.2895\n",
      "\n",
      "38: train_r2=1.0000 train_mse=0.0000\n",
      "38: test_r2=-0.8030 test_mse=0.2877\n",
      "\n",
      "39: train_r2=0.9998 train_mse=0.0000\n",
      "39: test_r2=-0.7875 test_mse=0.2852\n",
      "\n",
      "40: train_r2=0.9998 train_mse=0.0000\n",
      "40: test_r2=-0.8004 test_mse=0.2873\n",
      "\n",
      "41: train_r2=1.0000 train_mse=0.0000\n",
      "41: test_r2=-0.8261 test_mse=0.2914\n",
      "\n",
      "42: train_r2=1.0000 train_mse=0.0000\n",
      "42: test_r2=-0.7762 test_mse=0.2834\n",
      "\n",
      "43: train_r2=1.0000 train_mse=0.0000\n",
      "43: test_r2=-0.8446 test_mse=0.2943\n",
      "\n",
      "44: train_r2=1.0000 train_mse=0.0000\n",
      "44: test_r2=-0.7874 test_mse=0.2852\n",
      "\n",
      "45: train_r2=1.0000 train_mse=0.0000\n",
      "45: test_r2=-0.7620 test_mse=0.2811\n",
      "\n",
      "46: train_r2=1.0000 train_mse=0.0000\n",
      "46: test_r2=-0.7617 test_mse=0.2811\n",
      "\n",
      "47: train_r2=1.0000 train_mse=0.0000\n",
      "47: test_r2=-0.7908 test_mse=0.2857\n",
      "\n",
      "48: train_r2=1.0000 train_mse=0.0000\n",
      "48: test_r2=-0.8022 test_mse=0.2876\n",
      "\n",
      "49: train_r2=1.0000 train_mse=0.0000\n",
      "49: test_r2=-0.7866 test_mse=0.2851\n"
     ]
    }
   ],
   "source": [
    "info = find_reg_tree(train_df, test_df, 50)"
   ]
  },
  {
   "cell_type": "code",
   "execution_count": 30,
   "metadata": {},
   "outputs": [],
   "source": [
    "high_r2 = lambda a : abs(a[1])\n",
    "high_mse = lambda a : a[2]\n",
    "\n",
    "r2_info = sorted(info,key=high_r2)\n",
    "mse_info = sorted(info,key=high_mse)"
   ]
  },
  {
   "cell_type": "code",
   "execution_count": 31,
   "metadata": {},
   "outputs": [
    {
     "data": {
      "text/plain": [
       "[(33,\n",
       "  -0.8182960677481859,\n",
       "  0.2901263695950398,\n",
       "  [('n_tokens_title', 0.02551334238632843),\n",
       "   ('n_tokens_content', 0.022417961200038097),\n",
       "   ('n_unique_tokens', 0.01881986288988774),\n",
       "   ('n_non_stop_words', 0.0008610897497799735),\n",
       "   ('n_non_stop_unique_tokens', 0.018989329919685563),\n",
       "   ('num_hrefs', 0.025376209985321117),\n",
       "   ('num_self_hrefs', 0.016253921307020507),\n",
       "   ('num_imgs', 0.021724857205265364),\n",
       "   ('num_videos', 0.020537785804506974),\n",
       "   ('average_token_length', 0.021720168553356924),\n",
       "   ('num_keywords', 0.02275830156654381),\n",
       "   ('data_channel_is_lifestyle', 0.00466315897526559),\n",
       "   ('data_channel_is_entertainment', 0.014943070856398141),\n",
       "   ('data_channel_is_bus', 0.007612242879121483),\n",
       "   ('data_channel_is_socmed', 0.003885908485291268),\n",
       "   ('data_channel_is_tech', 0.004819661019480681),\n",
       "   ('data_channel_is_world', 0.025162442277814088),\n",
       "   ('kw_min_min', 0.01457355770153584),\n",
       "   ('kw_max_min', 0.018406196817588146),\n",
       "   ('kw_avg_min', 0.020547932243119963),\n",
       "   ('kw_min_max', 0.017474144848812493),\n",
       "   ('kw_max_max', 0.013933061081950774),\n",
       "   ('kw_avg_max', 0.019882817735412735),\n",
       "   ('kw_min_avg', 0.020828955690090935),\n",
       "   ('kw_max_avg', 0.04211848669705662),\n",
       "   ('kw_avg_avg', 0.03530839511010509),\n",
       "   ('self_reference_min_shares', 0.02494139011010584),\n",
       "   ('self_reference_max_shares', 0.016794319377465634),\n",
       "   ('self_reference_avg_sharess', 0.02610410150156987),\n",
       "   ('weekday_is_monday', 0.010735048091050279),\n",
       "   ('weekday_is_tuesday', 0.009905437242490638),\n",
       "   ('weekday_is_wednesday', 0.01117840379658619),\n",
       "   ('weekday_is_thursday', 0.009351640909546238),\n",
       "   ('weekday_is_friday', 0.009177829492709764),\n",
       "   ('weekday_is_saturday', 0.0022238412912622364),\n",
       "   ('weekday_is_sunday', 0.0022002962743218175),\n",
       "   ('is_weekend', 0.013451593752951699),\n",
       "   ('LDA_00', 0.018118762341740244),\n",
       "   ('LDA_01', 0.022254666432796926),\n",
       "   ('LDA_02', 0.021611557759649853),\n",
       "   ('LDA_03', 0.022007694291383027),\n",
       "   ('LDA_04', 0.018693959608721524),\n",
       "   ('global_subjectivity', 0.023482728060658136),\n",
       "   ('global_sentiment_polarity', 0.017782419983774226),\n",
       "   ('global_rate_positive_words', 0.01967178095963203),\n",
       "   ('global_rate_negative_words', 0.017531989062191954),\n",
       "   ('rate_positive_words', 0.013887641989930838),\n",
       "   ('rate_negative_words', 0.013768407121668269),\n",
       "   ('avg_positive_polarity', 0.022170120032297097),\n",
       "   ('min_positive_polarity', 0.016858519211172093),\n",
       "   ('max_positive_polarity', 0.01883287775443496),\n",
       "   ('avg_negative_polarity', 0.018711307723862033),\n",
       "   ('min_negative_polarity', 0.016054723782689108),\n",
       "   ('max_negative_polarity', 0.018678692550273324),\n",
       "   ('title_subjectivity', 0.01453727194389257),\n",
       "   ('title_sentiment_polarity', 0.017503164262776125),\n",
       "   ('abs_title_subjectivity', 0.017373990276219848),\n",
       "   ('abs_title_sentiment_polarity', 0.015270960023397197)]),\n",
       " (35,\n",
       "  -0.8190197789135596,\n",
       "  0.29024184457008345,\n",
       "  [('n_tokens_title', 0.023774804625164417),\n",
       "   ('n_tokens_content', 0.020533916021293935),\n",
       "   ('n_unique_tokens', 0.021573517037236638),\n",
       "   ('n_non_stop_words', 0.0002690342480970199),\n",
       "   ('n_non_stop_unique_tokens', 0.01868268168853106),\n",
       "   ('num_hrefs', 0.024423616423483275),\n",
       "   ('num_self_hrefs', 0.01816501042943379),\n",
       "   ('num_imgs', 0.02355488808947823),\n",
       "   ('num_videos', 0.01657595821951386),\n",
       "   ('average_token_length', 0.021666550010412896),\n",
       "   ('num_keywords', 0.01960779254366665),\n",
       "   ('data_channel_is_lifestyle', 0.003628234377749902),\n",
       "   ('data_channel_is_entertainment', 0.0147675605687338),\n",
       "   ('data_channel_is_bus', 0.008389962814991015),\n",
       "   ('data_channel_is_socmed', 0.003867388285496136),\n",
       "   ('data_channel_is_tech', 0.004347022349934797),\n",
       "   ('data_channel_is_world', 0.02486690279165649),\n",
       "   ('kw_min_min', 0.013563486816589063),\n",
       "   ('kw_max_min', 0.021822832353011138),\n",
       "   ('kw_avg_min', 0.02078175716525457),\n",
       "   ('kw_min_max', 0.014490370568641555),\n",
       "   ('kw_max_max', 0.01080882886382569),\n",
       "   ('kw_avg_max', 0.018519705842497368),\n",
       "   ('kw_min_avg', 0.024293597805054173),\n",
       "   ('kw_max_avg', 0.04934555470601948),\n",
       "   ('kw_avg_avg', 0.03352648014239524),\n",
       "   ('self_reference_min_shares', 0.024873605470228786),\n",
       "   ('self_reference_max_shares', 0.01870851392616764),\n",
       "   ('self_reference_avg_sharess', 0.026550490992250788),\n",
       "   ('weekday_is_monday', 0.01066873974049521),\n",
       "   ('weekday_is_tuesday', 0.010521669595796548),\n",
       "   ('weekday_is_wednesday', 0.010790451674509356),\n",
       "   ('weekday_is_thursday', 0.008913733224055313),\n",
       "   ('weekday_is_friday', 0.010139287809461283),\n",
       "   ('weekday_is_saturday', 0.0013508559834430364),\n",
       "   ('weekday_is_sunday', 0.0018774792432585932),\n",
       "   ('is_weekend', 0.013184006863312113),\n",
       "   ('LDA_00', 0.017475277093853336),\n",
       "   ('LDA_01', 0.02120387638742586),\n",
       "   ('LDA_02', 0.020984696707853117),\n",
       "   ('LDA_03', 0.020934217351686192),\n",
       "   ('LDA_04', 0.015656753116104476),\n",
       "   ('global_subjectivity', 0.023597123036309925),\n",
       "   ('global_sentiment_polarity', 0.016007263280894232),\n",
       "   ('global_rate_positive_words', 0.022518488822654625),\n",
       "   ('global_rate_negative_words', 0.018685382805503487),\n",
       "   ('rate_positive_words', 0.015865195795993867),\n",
       "   ('rate_negative_words', 0.015385183882213754),\n",
       "   ('avg_positive_polarity', 0.02172689437406164),\n",
       "   ('min_positive_polarity', 0.022584817303407754),\n",
       "   ('max_positive_polarity', 0.017597447964525944),\n",
       "   ('avg_negative_polarity', 0.015946876488064716),\n",
       "   ('min_negative_polarity', 0.018103053709189354),\n",
       "   ('max_negative_polarity', 0.018830675997199516),\n",
       "   ('title_subjectivity', 0.015390084654219338),\n",
       "   ('title_sentiment_polarity', 0.01826430184193565),\n",
       "   ('abs_title_subjectivity', 0.014845276153380433),\n",
       "   ('abs_title_sentiment_polarity', 0.01497082392238205)]),\n",
       " (30,\n",
       "  -0.8209551091391123,\n",
       "  0.2905506448486886,\n",
       "  [('n_tokens_title', 0.025587624594710374),\n",
       "   ('n_tokens_content', 0.020295454610573322),\n",
       "   ('n_unique_tokens', 0.01998974317989167),\n",
       "   ('n_non_stop_words', 6.888475058074612e-05),\n",
       "   ('n_non_stop_unique_tokens', 0.02089817235203375),\n",
       "   ('num_hrefs', 0.02398937506862096),\n",
       "   ('num_self_hrefs', 0.01856101730752926),\n",
       "   ('num_imgs', 0.023130266841249213),\n",
       "   ('num_videos', 0.019185815790148508),\n",
       "   ('average_token_length', 0.020897776124350217),\n",
       "   ('num_keywords', 0.021406262678761598),\n",
       "   ('data_channel_is_lifestyle', 0.004478821809684535),\n",
       "   ('data_channel_is_entertainment', 0.014999984780593185),\n",
       "   ('data_channel_is_bus', 0.006591520438220876),\n",
       "   ('data_channel_is_socmed', 0.003883980151268634),\n",
       "   ('data_channel_is_tech', 0.0032271325854048884),\n",
       "   ('data_channel_is_world', 0.025258278893067004),\n",
       "   ('kw_min_min', 0.016220574219903888),\n",
       "   ('kw_max_min', 0.01964110526459375),\n",
       "   ('kw_avg_min', 0.019504843702277144),\n",
       "   ('kw_min_max', 0.01665996679109914),\n",
       "   ('kw_max_max', 0.010469346977041894),\n",
       "   ('kw_avg_max', 0.019192626580457332),\n",
       "   ('kw_min_avg', 0.021624460407598058),\n",
       "   ('kw_max_avg', 0.04537136599891365),\n",
       "   ('kw_avg_avg', 0.040091915269141944),\n",
       "   ('self_reference_min_shares', 0.023265511684753805),\n",
       "   ('self_reference_max_shares', 0.018758582578880054),\n",
       "   ('self_reference_avg_sharess', 0.02583619134343038),\n",
       "   ('weekday_is_monday', 0.01083129889090077),\n",
       "   ('weekday_is_tuesday', 0.010587508376440773),\n",
       "   ('weekday_is_wednesday', 0.01315865411974904),\n",
       "   ('weekday_is_thursday', 0.008963757390866762),\n",
       "   ('weekday_is_friday', 0.009705480073278708),\n",
       "   ('weekday_is_saturday', 0.0015058275625163167),\n",
       "   ('weekday_is_sunday', 0.0019378136028828123),\n",
       "   ('is_weekend', 0.01440137039070055),\n",
       "   ('LDA_00', 0.015393906909130653),\n",
       "   ('LDA_01', 0.021471668608128765),\n",
       "   ('LDA_02', 0.020109195413539074),\n",
       "   ('LDA_03', 0.02462216062483707),\n",
       "   ('LDA_04', 0.018736684433023263),\n",
       "   ('global_subjectivity', 0.020116490700072803),\n",
       "   ('global_sentiment_polarity', 0.01670674570119759),\n",
       "   ('global_rate_positive_words', 0.021470984535597287),\n",
       "   ('global_rate_negative_words', 0.015497279456407383),\n",
       "   ('rate_positive_words', 0.014124365645860679),\n",
       "   ('rate_negative_words', 0.01584501219098084),\n",
       "   ('avg_positive_polarity', 0.019810751748511553),\n",
       "   ('min_positive_polarity', 0.019482033941328854),\n",
       "   ('max_positive_polarity', 0.01740341858303497),\n",
       "   ('avg_negative_polarity', 0.01582263652799089),\n",
       "   ('min_negative_polarity', 0.02020645164134016),\n",
       "   ('max_negative_polarity', 0.020601620418485584),\n",
       "   ('title_subjectivity', 0.01641434051933523),\n",
       "   ('title_sentiment_polarity', 0.015089853682286759),\n",
       "   ('abs_title_subjectivity', 0.017291851558593828),\n",
       "   ('abs_title_sentiment_polarity', 0.01360423397820129)]),\n",
       " (41,\n",
       "  -0.8260831544928371,\n",
       "  0.2913688730833442,\n",
       "  [('n_tokens_title', 0.02254678659608693),\n",
       "   ('n_tokens_content', 0.02222592427574068),\n",
       "   ('n_unique_tokens', 0.022946190337814268),\n",
       "   ('n_non_stop_words', 0.0004576690604389443),\n",
       "   ('n_non_stop_unique_tokens', 0.020702593570377514),\n",
       "   ('num_hrefs', 0.02499301692405453),\n",
       "   ('num_self_hrefs', 0.019834955017197516),\n",
       "   ('num_imgs', 0.02354201444775283),\n",
       "   ('num_videos', 0.019711567986329826),\n",
       "   ('average_token_length', 0.02431200158963914),\n",
       "   ('num_keywords', 0.023054863878506308),\n",
       "   ('data_channel_is_lifestyle', 0.0040091273498146975),\n",
       "   ('data_channel_is_entertainment', 0.01474802736277988),\n",
       "   ('data_channel_is_bus', 0.006084077227165412),\n",
       "   ('data_channel_is_socmed', 0.004019862686429163),\n",
       "   ('data_channel_is_tech', 0.004905921610593996),\n",
       "   ('data_channel_is_world', 0.024834011080706344),\n",
       "   ('kw_min_min', 0.014646051395504426),\n",
       "   ('kw_max_min', 0.01814936548307506),\n",
       "   ('kw_avg_min', 0.02111181380050175),\n",
       "   ('kw_min_max', 0.012985838724243555),\n",
       "   ('kw_max_max', 0.01383470507414103),\n",
       "   ('kw_avg_max', 0.021987110319473667),\n",
       "   ('kw_min_avg', 0.022041576631741944),\n",
       "   ('kw_max_avg', 0.04403336392543004),\n",
       "   ('kw_avg_avg', 0.0377990807555888),\n",
       "   ('self_reference_min_shares', 0.024149006940203104),\n",
       "   ('self_reference_max_shares', 0.017552887417356597),\n",
       "   ('self_reference_avg_sharess', 0.03042900176174744),\n",
       "   ('weekday_is_monday', 0.01231305800389346),\n",
       "   ('weekday_is_tuesday', 0.00820276958235101),\n",
       "   ('weekday_is_wednesday', 0.008749991547972196),\n",
       "   ('weekday_is_thursday', 0.009368896331062254),\n",
       "   ('weekday_is_friday', 0.01033745192740513),\n",
       "   ('weekday_is_saturday', 0.0019446979703099943),\n",
       "   ('weekday_is_sunday', 0.0013725555561626868),\n",
       "   ('is_weekend', 0.013294690716231614),\n",
       "   ('LDA_00', 0.01982191727301361),\n",
       "   ('LDA_01', 0.019528880708059908),\n",
       "   ('LDA_02', 0.019291078627288256),\n",
       "   ('LDA_03', 0.019421575848138313),\n",
       "   ('LDA_04', 0.020085654439629147),\n",
       "   ('global_subjectivity', 0.019950827743355968),\n",
       "   ('global_sentiment_polarity', 0.01673297750707326),\n",
       "   ('global_rate_positive_words', 0.01814131123574042),\n",
       "   ('global_rate_negative_words', 0.016180737058484003),\n",
       "   ('rate_positive_words', 0.017854856280446734),\n",
       "   ('rate_negative_words', 0.0162945261439026),\n",
       "   ('avg_positive_polarity', 0.019279389498781344),\n",
       "   ('min_positive_polarity', 0.0186592949202284),\n",
       "   ('max_positive_polarity', 0.014833410203087665),\n",
       "   ('avg_negative_polarity', 0.01761254645273432),\n",
       "   ('min_negative_polarity', 0.018465143184862753),\n",
       "   ('max_negative_polarity', 0.019059253579961473),\n",
       "   ('title_subjectivity', 0.0161920427268058),\n",
       "   ('title_sentiment_polarity', 0.017269625029023256),\n",
       "   ('abs_title_subjectivity', 0.014777852359929306),\n",
       "   ('abs_title_sentiment_polarity', 0.013314574313629608)]),\n",
       " (43,\n",
       "  -0.8445814010519412,\n",
       "  0.2943204436296707,\n",
       "  [('n_tokens_title', 0.02537483142243439),\n",
       "   ('n_tokens_content', 0.02203423635135975),\n",
       "   ('n_unique_tokens', 0.018882260246595194),\n",
       "   ('n_non_stop_words', 0.0003695202291605079),\n",
       "   ('n_non_stop_unique_tokens', 0.022031355259762384),\n",
       "   ('num_hrefs', 0.023097576216803348),\n",
       "   ('num_self_hrefs', 0.017934123490074522),\n",
       "   ('num_imgs', 0.02647970104412887),\n",
       "   ('num_videos', 0.018135883846476127),\n",
       "   ('average_token_length', 0.017715206013548132),\n",
       "   ('num_keywords', 0.02220544870361889),\n",
       "   ('data_channel_is_lifestyle', 0.004428899336380852),\n",
       "   ('data_channel_is_entertainment', 0.014747691067957073),\n",
       "   ('data_channel_is_bus', 0.006152740030963539),\n",
       "   ('data_channel_is_socmed', 0.005257420354739394),\n",
       "   ('data_channel_is_tech', 0.004133882221276088),\n",
       "   ('data_channel_is_world', 0.024833444798236796),\n",
       "   ('kw_min_min', 0.01587852833944092),\n",
       "   ('kw_max_min', 0.02470796428137457),\n",
       "   ('kw_avg_min', 0.017569759721738503),\n",
       "   ('kw_min_max', 0.016920389478922743),\n",
       "   ('kw_max_max', 0.010731667102362258),\n",
       "   ('kw_avg_max', 0.0212337604436234),\n",
       "   ('kw_min_avg', 0.018827140826158734),\n",
       "   ('kw_max_avg', 0.03974990930186415),\n",
       "   ('kw_avg_avg', 0.04536779466068082),\n",
       "   ('self_reference_min_shares', 0.024106019909922474),\n",
       "   ('self_reference_max_shares', 0.016474163960929412),\n",
       "   ('self_reference_avg_sharess', 0.027068057425992914),\n",
       "   ('weekday_is_monday', 0.011499402891881191),\n",
       "   ('weekday_is_tuesday', 0.011187805915573333),\n",
       "   ('weekday_is_wednesday', 0.012217483783998192),\n",
       "   ('weekday_is_thursday', 0.00915624037691073),\n",
       "   ('weekday_is_friday', 0.009682785712594143),\n",
       "   ('weekday_is_saturday', 0.001959325032648898),\n",
       "   ('weekday_is_sunday', 0.0020358312294500905),\n",
       "   ('is_weekend', 0.014532198581254343),\n",
       "   ('LDA_00', 0.019805023851097232),\n",
       "   ('LDA_01', 0.02485740327460753),\n",
       "   ('LDA_02', 0.020688946096121548),\n",
       "   ('LDA_03', 0.018932066720638085),\n",
       "   ('LDA_04', 0.01585923000112702),\n",
       "   ('global_subjectivity', 0.020832977362167663),\n",
       "   ('global_sentiment_polarity', 0.016135999798118916),\n",
       "   ('global_rate_positive_words', 0.0170599792554691),\n",
       "   ('global_rate_negative_words', 0.017542998765140694),\n",
       "   ('rate_positive_words', 0.014475846004604144),\n",
       "   ('rate_negative_words', 0.015020650513771902),\n",
       "   ('avg_positive_polarity', 0.01979945032424937),\n",
       "   ('min_positive_polarity', 0.020665676505391656),\n",
       "   ('max_positive_polarity', 0.020134051955513724),\n",
       "   ('avg_negative_polarity', 0.014740133012186159),\n",
       "   ('min_negative_polarity', 0.014076740994762778),\n",
       "   ('max_negative_polarity', 0.01759662025965659),\n",
       "   ('title_subjectivity', 0.018802315401714936),\n",
       "   ('title_sentiment_polarity', 0.01789483458858865),\n",
       "   ('abs_title_subjectivity', 0.01741677884958781),\n",
       "   ('abs_title_sentiment_polarity', 0.012941826854646695)])]"
      ]
     },
     "execution_count": 31,
     "metadata": {},
     "output_type": "execute_result"
    }
   ],
   "source": [
    "r2_info[-5:]"
   ]
  },
  {
   "cell_type": "code",
   "execution_count": 32,
   "metadata": {},
   "outputs": [],
   "source": [
    "# mse_info[:10]"
   ]
  },
  {
   "cell_type": "markdown",
   "metadata": {},
   "source": [
    "## Maximize test r2 score"
   ]
  },
  {
   "cell_type": "markdown",
   "metadata": {},
   "source": [
    "These are the best generalized versions of the model before the tree overfit:\n",
    "\n",
    "`max_depth`=20: `train_r2`=0.7400 `train_mse`=0.0428 `test_r2`=-0.4916 `test_mse`=0.2380\n",
    "\n",
    "`max_depth`=21: `train_r2`=0.7835 `train_mse`=0.0356 `test_r2`=-0.5395 `test_mse`=0.2456\n",
    "\n",
    "This is the best r2 score with overfitting on the train data:\n",
    "\n",
    "`max_depth`=43: `train_r2`=1.0000 `train_mse`=0.0000 `test_r2`=-0.8446 `test_mse`=0.2943"
   ]
  },
  {
   "cell_type": "code",
   "execution_count": 33,
   "metadata": {},
   "outputs": [
    {
     "data": {
      "text/plain": [
       "[('num_hrefs', 0.023097576216803348),\n",
       " ('self_reference_min_shares', 0.024106019909922474),\n",
       " ('kw_max_min', 0.02470796428137457),\n",
       " ('data_channel_is_world', 0.024833444798236796),\n",
       " ('LDA_01', 0.02485740327460753),\n",
       " ('n_tokens_title', 0.02537483142243439),\n",
       " ('num_imgs', 0.02647970104412887),\n",
       " ('self_reference_avg_sharess', 0.027068057425992914),\n",
       " ('kw_max_avg', 0.03974990930186415),\n",
       " ('kw_avg_avg', 0.04536779466068082)]"
      ]
     },
     "execution_count": 33,
     "metadata": {},
     "output_type": "execute_result"
    }
   ],
   "source": [
    "max_depth, best_r2, mse, features = r2_info[-1]\n",
    "key = lambda a: abs(a[1])\n",
    "best_r2_coef = sorted(features, key=key)\n",
    "best_r2_coef[-10:]"
   ]
  },
  {
   "cell_type": "code",
   "execution_count": 34,
   "metadata": {},
   "outputs": [],
   "source": [
    "model = DecisionTreeRegressor(max_depth=max_depth, splitter='random', max_features=1.0, random_state=0)\n",
    "model.fit(X_train, y_train)\n",
    "\n",
    "pred = model.predict(X_test)\n",
    "r2 = r2_score(y_test, pred)\n",
    "mse = mean_squared_error(y_test, pred)"
   ]
  },
  {
   "cell_type": "code",
   "execution_count": 35,
   "metadata": {},
   "outputs": [
    {
     "data": {
      "image/png": "[encoded data removed]",
      "text/plain": [
       "<Figure size 640x480 with 1 Axes>"
      ]
     },
     "metadata": {},
     "output_type": "display_data"
    }
   ],
   "source": [
    "plt.scatter(y_test, pred)\n",
    "plt.title(f'DecisionTreeRegressor with r2 = {r2:.3f} mse = {mse:.4f}')\n",
    "plt.xlabel('y truth')\n",
    "plt.ylabel('model prediction')\n",
    "plt.show()"
   ]
  },
  {
   "cell_type": "markdown",
   "metadata": {},
   "source": [
    "# EDA 4"
   ]
  },
  {
   "cell_type": "code",
   "execution_count": null,
   "metadata": {},
   "outputs": [],
   "source": []
  }
 ],
 "metadata": {
  "kernelspec": {
   "display_name": "ML",
   "language": "python",
   "name": "python3"
  },
  "language_info": {
   "codemirror_mode": {
    "name": "ipython",
    "version": 3
   },
   "file_extension": ".py",
   "mimetype": "text/x-python",
   "name": "python",
   "nbconvert_exporter": "python",
   "pygments_lexer": "ipython3",
   "version": "3.11.7"
  }
 },
 "nbformat": 4,
 "nbformat_minor": 2
}
